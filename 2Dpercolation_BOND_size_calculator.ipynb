{
 "cells": [
  {
   "cell_type": "code",
   "execution_count": 8,
   "id": "4a2fc072-3aa1-4157-8b27-ca3e9e7a3c4f",
   "metadata": {
    "tags": []
   },
   "outputs": [],
   "source": [
    "import igraph as ig\n",
    "import numpy as np\n",
    "import matplotlib.pyplot as plt\n",
    "\n",
    "# Set parameters\n",
    "N = 300\n",
    "p = 0.59\n",
    "\n",
    "# percolazione critica intorno a 0.50\n",
    "\n",
    "g = ig.Graph.Lattice([N, N])"
   ]
  },
  {
   "cell_type": "code",
   "execution_count": 9,
   "id": "82d45e79-fa63-4463-a1ef-8b86ce75e687",
   "metadata": {
    "tags": []
   },
   "outputs": [],
   "source": [
    "# Generate random numbers and delete edges\n",
    "rand = np.random.rand(g.ecount()) #genera n*n numeri random"
   ]
  },
  {
   "cell_type": "code",
   "execution_count": 10,
   "id": "04b6d1ff-45a5-4679-9bf3-ee94c0d85cc7",
   "metadata": {
    "tags": []
   },
   "outputs": [],
   "source": [
    "g.delete_edges([e.index for e in g.es if rand[e.index] > p]) #togliamo i legami che non sono stati percolati"
   ]
  },
  {
   "cell_type": "code",
   "execution_count": 11,
   "id": "91795714-efb3-4136-bf97-67c203c20bae",
   "metadata": {
    "tags": []
   },
   "outputs": [],
   "source": [
    "# Calculate clusters and their sizes\n",
    "clusters = g.connected_components() \n",
    "sizes = clusters.sizes()"
   ]
  },
  {
   "cell_type": "code",
   "execution_count": 12,
   "id": "c07b8ead-15d6-491e-9a05-b6fe9b1fbdff",
   "metadata": {
    "tags": []
   },
   "outputs": [],
   "source": [
    "sizes.sort(reverse = True)\n",
    "sizes.append(0) #così se sono tutti nel giant la size del 2° cluster darà 0"
   ]
  },
  {
   "cell_type": "code",
   "execution_count": 13,
   "id": "4a677a2c-81de-49ee-8214-a0c336ba4e6d",
   "metadata": {
    "tags": []
   },
   "outputs": [
    {
     "name": "stdout",
     "output_type": "stream",
     "text": [
      "First cluster size: 84402\n",
      "Second cluster size: 55\n"
     ]
    }
   ],
   "source": [
    "print(f\"First cluster size: {sizes[0]}\")\n",
    "print(f\"Second cluster size: {sizes[1]}\")"
   ]
  }
 ],
 "metadata": {
  "kernelspec": {
   "display_name": "Python 3 (ipykernel)",
   "language": "python",
   "name": "python3"
  },
  "language_info": {
   "codemirror_mode": {
    "name": "ipython",
    "version": 3
   },
   "file_extension": ".py",
   "mimetype": "text/x-python",
   "name": "python",
   "nbconvert_exporter": "python",
   "pygments_lexer": "ipython3",
   "version": "3.10.6"
  }
 },
 "nbformat": 4,
 "nbformat_minor": 5
}
