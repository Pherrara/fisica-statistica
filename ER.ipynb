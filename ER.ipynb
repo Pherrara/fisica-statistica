{
 "cells": [
  {
   "cell_type": "code",
   "execution_count": 1,
   "id": "619ed959-6590-4ead-84fd-96afb161d2b9",
   "metadata": {
    "tags": []
   },
   "outputs": [],
   "source": [
    "import igraph as ig\n",
    "import random\n",
    "\n",
    "# Parameters for the ER graph\n",
    "N = 50  # Number of nodes\n",
    "p = 0.01  # Probability of an edge between any two nodes\n",
    "\n",
    "# Generate the graph\n",
    "g = ig.Graph.Erdos_Renyi(n=N, p=p)"
   ]
  },
  {
   "cell_type": "code",
   "execution_count": 2,
   "id": "27e7a5f7-86b2-4aff-9e38-005bb00ae813",
   "metadata": {
    "tags": []
   },
   "outputs": [],
   "source": [
    "g.vs['color'] = 'white'\n",
    "layout = g.layout(\"kk\")"
   ]
  },
  {
   "cell_type": "code",
   "execution_count": 3,
   "id": "acf3ec8e-58cd-4bb1-8260-287ba5eecfd8",
   "metadata": {
    "tags": []
   },
   "outputs": [
    {
     "data": {
      "image/svg+xml": [
       "<?xml version=\"1.0\" encoding=\"UTF-8\"?>\n",
       "<svg xmlns=\"http://www.w3.org/2000/svg\" xmlns:xlink=\"http://www.w3.org/1999/xlink\" width=\"500pt\" height=\"500pt\" viewBox=\"0 0 500 500\" version=\"1.1\">\n",
       "<g id=\"surface2\">\n",
       "<rect x=\"0\" y=\"0\" width=\"500\" height=\"500\" style=\"fill:rgb(100%,100%,100%);fill-opacity:1;stroke:none;\"/>\n",
       "<path style=\"fill:none;stroke-width:1;stroke-linecap:butt;stroke-linejoin:miter;stroke:rgb(26.666667%,26.666667%,26.666667%);stroke-opacity:1;stroke-miterlimit:10;\" d=\"M 301.671875 177.570312 L 404.207031 194.4375 \"/>\n",
       "<path style=\"fill:none;stroke-width:1;stroke-linecap:butt;stroke-linejoin:miter;stroke:rgb(26.666667%,26.666667%,26.666667%);stroke-opacity:1;stroke-miterlimit:10;\" d=\"M 153.71875 86.039062 L 91.359375 174.488281 \"/>\n",
       "<path style=\"fill:none;stroke-width:1;stroke-linecap:butt;stroke-linejoin:miter;stroke:rgb(26.666667%,26.666667%,26.666667%);stroke-opacity:1;stroke-miterlimit:10;\" d=\"M 91.359375 174.488281 L 187.894531 225.003906 \"/>\n",
       "<path style=\"fill:none;stroke-width:1;stroke-linecap:butt;stroke-linejoin:miter;stroke:rgb(26.666667%,26.666667%,26.666667%);stroke-opacity:1;stroke-miterlimit:10;\" d=\"M 110.417969 243.871094 L 155.109375 150.871094 \"/>\n",
       "<path style=\"fill:none;stroke-width:1;stroke-linecap:butt;stroke-linejoin:miter;stroke:rgb(26.666667%,26.666667%,26.666667%);stroke-opacity:1;stroke-miterlimit:10;\" d=\"M 103.652344 69.855469 L 39.414062 151.207031 \"/>\n",
       "<path style=\"fill:none;stroke-width:1;stroke-linecap:butt;stroke-linejoin:miter;stroke:rgb(26.666667%,26.666667%,26.666667%);stroke-opacity:1;stroke-miterlimit:10;\" d=\"M 110.417969 243.871094 L 24.089844 201.703125 \"/>\n",
       "<path style=\"fill:none;stroke-width:1;stroke-linecap:butt;stroke-linejoin:miter;stroke:rgb(26.666667%,26.666667%,26.666667%);stroke-opacity:1;stroke-miterlimit:10;\" d=\"M 150.363281 316.246094 L 47.757812 358.078125 \"/>\n",
       "<path style=\"fill:none;stroke-width:1;stroke-linecap:butt;stroke-linejoin:miter;stroke:rgb(26.666667%,26.666667%,26.666667%);stroke-opacity:1;stroke-miterlimit:10;\" d=\"M 320.476562 92.242188 L 231.480469 135.578125 \"/>\n",
       "<path style=\"fill:none;stroke-width:1;stroke-linecap:butt;stroke-linejoin:miter;stroke:rgb(26.666667%,26.666667%,26.666667%);stroke-opacity:1;stroke-miterlimit:10;\" d=\"M 211.957031 28.082031 L 231.480469 135.578125 \"/>\n",
       "<path style=\"fill-rule:nonzero;fill:rgb(100%,100%,100%);fill-opacity:1;stroke-width:1;stroke-linecap:butt;stroke-linejoin:miter;stroke:rgb(0%,0%,0%);stroke-opacity:1;stroke-miterlimit:10;\" d=\"M 73.097656 296.296875 C 73.097656 302.964844 63.097656 302.964844 63.097656 296.296875 C 63.097656 289.628906 73.097656 289.628906 73.097656 296.296875 \"/>\n",
       "<path style=\"fill-rule:nonzero;fill:rgb(100%,100%,100%);fill-opacity:1;stroke-width:1;stroke-linecap:butt;stroke-linejoin:miter;stroke:rgb(0%,0%,0%);stroke-opacity:1;stroke-miterlimit:10;\" d=\"M 434.507812 261.515625 C 434.507812 268.179688 424.507812 268.179688 424.507812 261.515625 C 424.507812 254.847656 434.507812 254.847656 434.507812 261.515625 \"/>\n",
       "<path style=\"fill-rule:nonzero;fill:rgb(100%,100%,100%);fill-opacity:1;stroke-width:1;stroke-linecap:butt;stroke-linejoin:miter;stroke:rgb(0%,0%,0%);stroke-opacity:1;stroke-miterlimit:10;\" d=\"M 462.886719 345.347656 C 462.886719 352.011719 452.886719 352.011719 452.886719 345.347656 C 452.886719 338.679688 462.886719 338.679688 462.886719 345.347656 \"/>\n",
       "<path style=\"fill-rule:nonzero;fill:rgb(100%,100%,100%);fill-opacity:1;stroke-width:1;stroke-linecap:butt;stroke-linejoin:miter;stroke:rgb(0%,0%,0%);stroke-opacity:1;stroke-miterlimit:10;\" d=\"M 485 235.40625 C 485 242.074219 475 242.074219 475 235.40625 C 475 228.738281 485 228.738281 485 235.40625 \"/>\n",
       "<path style=\"fill-rule:nonzero;fill:rgb(100%,100%,100%);fill-opacity:1;stroke-width:1;stroke-linecap:butt;stroke-linejoin:miter;stroke:rgb(0%,0%,0%);stroke-opacity:1;stroke-miterlimit:10;\" d=\"M 325.476562 92.242188 C 325.476562 98.910156 315.476562 98.910156 315.476562 92.242188 C 315.476562 85.574219 325.476562 85.574219 325.476562 92.242188 \"/>\n",
       "<path style=\"fill-rule:nonzero;fill:rgb(100%,100%,100%);fill-opacity:1;stroke-width:1;stroke-linecap:butt;stroke-linejoin:miter;stroke:rgb(0%,0%,0%);stroke-opacity:1;stroke-miterlimit:10;\" d=\"M 158.71875 86.039062 C 158.71875 92.703125 148.71875 92.703125 148.71875 86.039062 C 148.71875 79.371094 158.71875 79.371094 158.71875 86.039062 \"/>\n",
       "<path style=\"fill-rule:nonzero;fill:rgb(100%,100%,100%);fill-opacity:1;stroke-width:1;stroke-linecap:butt;stroke-linejoin:miter;stroke:rgb(0%,0%,0%);stroke-opacity:1;stroke-miterlimit:10;\" d=\"M 306.671875 177.570312 C 306.671875 184.234375 296.671875 184.234375 296.671875 177.570312 C 296.671875 170.902344 306.671875 170.902344 306.671875 177.570312 \"/>\n",
       "<path style=\"fill-rule:nonzero;fill:rgb(100%,100%,100%);fill-opacity:1;stroke-width:1;stroke-linecap:butt;stroke-linejoin:miter;stroke:rgb(0%,0%,0%);stroke-opacity:1;stroke-miterlimit:10;\" d=\"M 155.363281 316.246094 C 155.363281 322.914062 145.363281 322.914062 145.363281 316.246094 C 145.363281 309.582031 155.363281 309.582031 155.363281 316.246094 \"/>\n",
       "<path style=\"fill-rule:nonzero;fill:rgb(100%,100%,100%);fill-opacity:1;stroke-width:1;stroke-linecap:butt;stroke-linejoin:miter;stroke:rgb(0%,0%,0%);stroke-opacity:1;stroke-miterlimit:10;\" d=\"M 481.125 295.34375 C 481.125 302.011719 471.125 302.011719 471.125 295.34375 C 471.125 288.679688 481.125 288.679688 481.125 295.34375 \"/>\n",
       "<path style=\"fill-rule:nonzero;fill:rgb(100%,100%,100%);fill-opacity:1;stroke-width:1;stroke-linecap:butt;stroke-linejoin:miter;stroke:rgb(0%,0%,0%);stroke-opacity:1;stroke-miterlimit:10;\" d=\"M 350.105469 250.476562 C 350.105469 257.144531 340.105469 257.144531 340.105469 250.476562 C 340.105469 243.8125 350.105469 243.8125 350.105469 250.476562 \"/>\n",
       "<path style=\"fill-rule:nonzero;fill:rgb(100%,100%,100%);fill-opacity:1;stroke-width:1;stroke-linecap:butt;stroke-linejoin:miter;stroke:rgb(0%,0%,0%);stroke-opacity:1;stroke-miterlimit:10;\" d=\"M 421.15625 91.800781 C 421.15625 98.464844 411.15625 98.464844 411.15625 91.800781 C 411.15625 85.132812 421.15625 85.132812 421.15625 91.800781 \"/>\n",
       "<path style=\"fill-rule:nonzero;fill:rgb(100%,100%,100%);fill-opacity:1;stroke-width:1;stroke-linecap:butt;stroke-linejoin:miter;stroke:rgb(0%,0%,0%);stroke-opacity:1;stroke-miterlimit:10;\" d=\"M 76.105469 108.378906 C 76.105469 115.046875 66.105469 115.046875 66.105469 108.378906 C 66.105469 101.710938 76.105469 101.710938 76.105469 108.378906 \"/>\n",
       "<path style=\"fill-rule:nonzero;fill:rgb(100%,100%,100%);fill-opacity:1;stroke-width:1;stroke-linecap:butt;stroke-linejoin:miter;stroke:rgb(0%,0%,0%);stroke-opacity:1;stroke-miterlimit:10;\" d=\"M 384.484375 390.636719 C 384.484375 397.300781 374.484375 397.300781 374.484375 390.636719 C 374.484375 383.96875 384.484375 383.96875 384.484375 390.636719 \"/>\n",
       "<path style=\"fill-rule:nonzero;fill:rgb(100%,100%,100%);fill-opacity:1;stroke-width:1;stroke-linecap:butt;stroke-linejoin:miter;stroke:rgb(0%,0%,0%);stroke-opacity:1;stroke-miterlimit:10;\" d=\"M 452.414062 136.089844 C 452.414062 142.757812 442.414062 142.757812 442.414062 136.089844 C 442.414062 129.421875 452.414062 129.421875 452.414062 136.089844 \"/>\n",
       "<path style=\"fill-rule:nonzero;fill:rgb(100%,100%,100%);fill-opacity:1;stroke-width:1;stroke-linecap:butt;stroke-linejoin:miter;stroke:rgb(0%,0%,0%);stroke-opacity:1;stroke-miterlimit:10;\" d=\"M 437.523438 393.28125 C 437.523438 399.949219 427.523438 399.949219 427.523438 393.28125 C 427.523438 386.613281 437.523438 386.613281 437.523438 393.28125 \"/>\n",
       "<path style=\"fill-rule:nonzero;fill:rgb(100%,100%,100%);fill-opacity:1;stroke-width:1;stroke-linecap:butt;stroke-linejoin:miter;stroke:rgb(0%,0%,0%);stroke-opacity:1;stroke-miterlimit:10;\" d=\"M 314.101562 408.414062 C 314.101562 415.082031 304.101562 415.082031 304.101562 408.414062 C 304.101562 401.75 314.101562 401.75 314.101562 408.414062 \"/>\n",
       "<path style=\"fill-rule:nonzero;fill:rgb(100%,100%,100%);fill-opacity:1;stroke-width:1;stroke-linecap:butt;stroke-linejoin:miter;stroke:rgb(0%,0%,0%);stroke-opacity:1;stroke-miterlimit:10;\" d=\"M 337.511719 464.582031 C 337.511719 471.25 327.511719 471.25 327.511719 464.582031 C 327.511719 457.914062 337.511719 457.914062 337.511719 464.582031 \"/>\n",
       "<path style=\"fill-rule:nonzero;fill:rgb(100%,100%,100%);fill-opacity:1;stroke-width:1;stroke-linecap:butt;stroke-linejoin:miter;stroke:rgb(0%,0%,0%);stroke-opacity:1;stroke-miterlimit:10;\" d=\"M 81.804688 409.992188 C 81.804688 416.660156 71.804688 416.660156 71.804688 409.992188 C 71.804688 403.324219 81.804688 403.324219 81.804688 409.992188 \"/>\n",
       "<path style=\"fill-rule:nonzero;fill:rgb(100%,100%,100%);fill-opacity:1;stroke-width:1;stroke-linecap:butt;stroke-linejoin:miter;stroke:rgb(0%,0%,0%);stroke-opacity:1;stroke-miterlimit:10;\" d=\"M 25 305.84375 C 25 312.511719 15 312.511719 15 305.84375 C 15 299.179688 25 299.179688 25 305.84375 \"/>\n",
       "<path style=\"fill-rule:nonzero;fill:rgb(100%,100%,100%);fill-opacity:1;stroke-width:1;stroke-linecap:butt;stroke-linejoin:miter;stroke:rgb(0%,0%,0%);stroke-opacity:1;stroke-miterlimit:10;\" d=\"M 409.207031 194.4375 C 409.207031 201.105469 399.207031 201.105469 399.207031 194.4375 C 399.207031 187.773438 409.207031 187.773438 409.207031 194.4375 \"/>\n",
       "<path style=\"fill-rule:nonzero;fill:rgb(100%,100%,100%);fill-opacity:1;stroke-width:1;stroke-linecap:butt;stroke-linejoin:miter;stroke:rgb(0%,0%,0%);stroke-opacity:1;stroke-miterlimit:10;\" d=\"M 179.035156 405.453125 C 179.035156 412.121094 169.035156 412.121094 169.035156 405.453125 C 169.035156 398.789062 179.035156 398.789062 179.035156 405.453125 \"/>\n",
       "<path style=\"fill-rule:nonzero;fill:rgb(100%,100%,100%);fill-opacity:1;stroke-width:1;stroke-linecap:butt;stroke-linejoin:miter;stroke:rgb(0%,0%,0%);stroke-opacity:1;stroke-miterlimit:10;\" d=\"M 234.242188 339.003906 C 234.242188 345.667969 224.242188 345.667969 224.242188 339.003906 C 224.242188 332.335938 234.242188 332.335938 234.242188 339.003906 \"/>\n",
       "<path style=\"fill-rule:nonzero;fill:rgb(100%,100%,100%);fill-opacity:1;stroke-width:1;stroke-linecap:butt;stroke-linejoin:miter;stroke:rgb(0%,0%,0%);stroke-opacity:1;stroke-miterlimit:10;\" d=\"M 318.414062 330.523438 C 318.414062 337.1875 308.414062 337.1875 308.414062 330.523438 C 308.414062 323.855469 318.414062 323.855469 318.414062 330.523438 \"/>\n",
       "<path style=\"fill-rule:nonzero;fill:rgb(100%,100%,100%);fill-opacity:1;stroke-width:1;stroke-linecap:butt;stroke-linejoin:miter;stroke:rgb(0%,0%,0%);stroke-opacity:1;stroke-miterlimit:10;\" d=\"M 113.585938 371.628906 C 113.585938 378.296875 103.585938 378.296875 103.585938 371.628906 C 103.585938 364.960938 113.585938 364.960938 113.585938 371.628906 \"/>\n",
       "<path style=\"fill-rule:nonzero;fill:rgb(100%,100%,100%);fill-opacity:1;stroke-width:1;stroke-linecap:butt;stroke-linejoin:miter;stroke:rgb(0%,0%,0%);stroke-opacity:1;stroke-miterlimit:10;\" d=\"M 274.785156 20 C 274.785156 26.667969 264.785156 26.667969 264.785156 20 C 264.785156 13.332031 274.785156 13.332031 274.785156 20 \"/>\n",
       "<path style=\"fill-rule:nonzero;fill:rgb(100%,100%,100%);fill-opacity:1;stroke-width:1;stroke-linecap:butt;stroke-linejoin:miter;stroke:rgb(0%,0%,0%);stroke-opacity:1;stroke-miterlimit:10;\" d=\"M 108.652344 69.855469 C 108.652344 76.519531 98.652344 76.519531 98.652344 69.855469 C 98.652344 63.1875 108.652344 63.1875 108.652344 69.855469 \"/>\n",
       "<path style=\"fill-rule:nonzero;fill:rgb(100%,100%,100%);fill-opacity:1;stroke-width:1;stroke-linecap:butt;stroke-linejoin:miter;stroke:rgb(0%,0%,0%);stroke-opacity:1;stroke-miterlimit:10;\" d=\"M 96.359375 174.488281 C 96.359375 181.15625 86.359375 181.15625 86.359375 174.488281 C 86.359375 167.820312 96.359375 167.820312 96.359375 174.488281 \"/>\n",
       "<path style=\"fill-rule:nonzero;fill:rgb(100%,100%,100%);fill-opacity:1;stroke-width:1;stroke-linecap:butt;stroke-linejoin:miter;stroke:rgb(0%,0%,0%);stroke-opacity:1;stroke-miterlimit:10;\" d=\"M 328.058594 33.304688 C 328.058594 39.972656 318.058594 39.972656 318.058594 33.304688 C 318.058594 26.640625 328.058594 26.640625 328.058594 33.304688 \"/>\n",
       "<path style=\"fill-rule:nonzero;fill:rgb(100%,100%,100%);fill-opacity:1;stroke-width:1;stroke-linecap:butt;stroke-linejoin:miter;stroke:rgb(0%,0%,0%);stroke-opacity:1;stroke-miterlimit:10;\" d=\"M 166.414062 35.660156 C 166.414062 42.324219 156.414062 42.324219 156.414062 35.660156 C 156.414062 28.992188 166.414062 28.992188 166.414062 35.660156 \"/>\n",
       "<path style=\"fill-rule:nonzero;fill:rgb(100%,100%,100%);fill-opacity:1;stroke-width:1;stroke-linecap:butt;stroke-linejoin:miter;stroke:rgb(0%,0%,0%);stroke-opacity:1;stroke-miterlimit:10;\" d=\"M 115.417969 243.871094 C 115.417969 250.539062 105.417969 250.539062 105.417969 243.871094 C 105.417969 237.207031 115.417969 237.207031 115.417969 243.871094 \"/>\n",
       "<path style=\"fill-rule:nonzero;fill:rgb(100%,100%,100%);fill-opacity:1;stroke-width:1;stroke-linecap:butt;stroke-linejoin:miter;stroke:rgb(0%,0%,0%);stroke-opacity:1;stroke-miterlimit:10;\" d=\"M 178.464844 467.859375 C 178.464844 474.523438 168.464844 474.523438 168.464844 467.859375 C 168.464844 461.191406 178.464844 461.191406 178.464844 467.859375 \"/>\n",
       "<path style=\"fill-rule:nonzero;fill:rgb(100%,100%,100%);fill-opacity:1;stroke-width:1;stroke-linecap:butt;stroke-linejoin:miter;stroke:rgb(0%,0%,0%);stroke-opacity:1;stroke-miterlimit:10;\" d=\"M 263.171875 256.472656 C 263.171875 263.140625 253.171875 263.140625 253.171875 256.472656 C 253.171875 249.808594 263.171875 249.808594 263.171875 256.472656 \"/>\n",
       "<path style=\"fill-rule:nonzero;fill:rgb(100%,100%,100%);fill-opacity:1;stroke-width:1;stroke-linecap:butt;stroke-linejoin:miter;stroke:rgb(0%,0%,0%);stroke-opacity:1;stroke-miterlimit:10;\" d=\"M 247.136719 422.851562 C 247.136719 429.519531 237.136719 429.519531 237.136719 422.851562 C 237.136719 416.183594 247.136719 416.183594 247.136719 422.851562 \"/>\n",
       "<path style=\"fill-rule:nonzero;fill:rgb(100%,100%,100%);fill-opacity:1;stroke-width:1;stroke-linecap:butt;stroke-linejoin:miter;stroke:rgb(0%,0%,0%);stroke-opacity:1;stroke-miterlimit:10;\" d=\"M 379.972656 134.199219 C 379.972656 140.863281 369.972656 140.863281 369.972656 134.199219 C 369.972656 127.53125 379.972656 127.53125 379.972656 134.199219 \"/>\n",
       "<path style=\"fill-rule:nonzero;fill:rgb(100%,100%,100%);fill-opacity:1;stroke-width:1;stroke-linecap:butt;stroke-linejoin:miter;stroke:rgb(0%,0%,0%);stroke-opacity:1;stroke-miterlimit:10;\" d=\"M 253.996094 70.863281 C 253.996094 77.53125 243.996094 77.53125 243.996094 70.863281 C 243.996094 64.199219 253.996094 64.199219 253.996094 70.863281 \"/>\n",
       "<path style=\"fill-rule:nonzero;fill:rgb(100%,100%,100%);fill-opacity:1;stroke-width:1;stroke-linecap:butt;stroke-linejoin:miter;stroke:rgb(0%,0%,0%);stroke-opacity:1;stroke-miterlimit:10;\" d=\"M 387.664062 441.097656 C 387.664062 447.765625 377.664062 447.765625 377.664062 441.097656 C 377.664062 434.433594 387.664062 434.433594 387.664062 441.097656 \"/>\n",
       "<path style=\"fill-rule:nonzero;fill:rgb(100%,100%,100%);fill-opacity:1;stroke-width:1;stroke-linecap:butt;stroke-linejoin:miter;stroke:rgb(0%,0%,0%);stroke-opacity:1;stroke-miterlimit:10;\" d=\"M 192.894531 225.003906 C 192.894531 231.671875 182.894531 231.671875 182.894531 225.003906 C 182.894531 218.339844 192.894531 218.339844 192.894531 225.003906 \"/>\n",
       "<path style=\"fill-rule:nonzero;fill:rgb(100%,100%,100%);fill-opacity:1;stroke-width:1;stroke-linecap:butt;stroke-linejoin:miter;stroke:rgb(0%,0%,0%);stroke-opacity:1;stroke-miterlimit:10;\" d=\"M 230.597656 480 C 230.597656 486.667969 220.597656 486.667969 220.597656 480 C 220.597656 473.332031 230.597656 473.332031 230.597656 480 \"/>\n",
       "<path style=\"fill-rule:nonzero;fill:rgb(100%,100%,100%);fill-opacity:1;stroke-width:1;stroke-linecap:butt;stroke-linejoin:miter;stroke:rgb(0%,0%,0%);stroke-opacity:1;stroke-miterlimit:10;\" d=\"M 378.699219 57.847656 C 378.699219 64.511719 368.699219 64.511719 368.699219 57.847656 C 368.699219 51.179688 378.699219 51.179688 378.699219 57.847656 \"/>\n",
       "<path style=\"fill-rule:nonzero;fill:rgb(100%,100%,100%);fill-opacity:1;stroke-width:1;stroke-linecap:butt;stroke-linejoin:miter;stroke:rgb(0%,0%,0%);stroke-opacity:1;stroke-miterlimit:10;\" d=\"M 160.109375 150.871094 C 160.109375 157.535156 150.109375 157.535156 150.109375 150.871094 C 150.109375 144.203125 160.109375 144.203125 160.109375 150.871094 \"/>\n",
       "<path style=\"fill-rule:nonzero;fill:rgb(100%,100%,100%);fill-opacity:1;stroke-width:1;stroke-linecap:butt;stroke-linejoin:miter;stroke:rgb(0%,0%,0%);stroke-opacity:1;stroke-miterlimit:10;\" d=\"M 402.71875 323.871094 C 402.71875 330.535156 392.71875 330.535156 392.71875 323.871094 C 392.71875 317.203125 402.71875 317.203125 402.71875 323.871094 \"/>\n",
       "<path style=\"fill-rule:nonzero;fill:rgb(100%,100%,100%);fill-opacity:1;stroke-width:1;stroke-linecap:butt;stroke-linejoin:miter;stroke:rgb(0%,0%,0%);stroke-opacity:1;stroke-miterlimit:10;\" d=\"M 44.414062 151.207031 C 44.414062 157.875 34.414062 157.875 34.414062 151.207031 C 34.414062 144.542969 44.414062 144.542969 44.414062 151.207031 \"/>\n",
       "<path style=\"fill-rule:nonzero;fill:rgb(100%,100%,100%);fill-opacity:1;stroke-width:1;stroke-linecap:butt;stroke-linejoin:miter;stroke:rgb(0%,0%,0%);stroke-opacity:1;stroke-miterlimit:10;\" d=\"M 26.640625 248.8125 C 26.640625 255.476562 16.640625 255.476562 16.640625 248.8125 C 16.640625 242.144531 26.640625 242.144531 26.640625 248.8125 \"/>\n",
       "<path style=\"fill-rule:nonzero;fill:rgb(100%,100%,100%);fill-opacity:1;stroke-width:1;stroke-linecap:butt;stroke-linejoin:miter;stroke:rgb(0%,0%,0%);stroke-opacity:1;stroke-miterlimit:10;\" d=\"M 128.769531 443.945312 C 128.769531 450.613281 118.769531 450.613281 118.769531 443.945312 C 118.769531 437.277344 128.769531 437.277344 128.769531 443.945312 \"/>\n",
       "<path style=\"fill-rule:nonzero;fill:rgb(100%,100%,100%);fill-opacity:1;stroke-width:1;stroke-linecap:butt;stroke-linejoin:miter;stroke:rgb(0%,0%,0%);stroke-opacity:1;stroke-miterlimit:10;\" d=\"M 285.8125 477.753906 C 285.8125 484.421875 275.8125 484.421875 275.8125 477.753906 C 275.8125 471.089844 285.8125 471.089844 285.8125 477.753906 \"/>\n",
       "<path style=\"fill-rule:nonzero;fill:rgb(100%,100%,100%);fill-opacity:1;stroke-width:1;stroke-linecap:butt;stroke-linejoin:miter;stroke:rgb(0%,0%,0%);stroke-opacity:1;stroke-miterlimit:10;\" d=\"M 473.347656 183.84375 C 473.347656 190.511719 463.347656 190.511719 463.347656 183.84375 C 463.347656 177.175781 473.347656 177.175781 473.347656 183.84375 \"/>\n",
       "<path style=\"fill-rule:nonzero;fill:rgb(100%,100%,100%);fill-opacity:1;stroke-width:1;stroke-linecap:butt;stroke-linejoin:miter;stroke:rgb(0%,0%,0%);stroke-opacity:1;stroke-miterlimit:10;\" d=\"M 29.089844 201.703125 C 29.089844 208.367188 19.089844 208.367188 19.089844 201.703125 C 19.089844 195.035156 29.089844 195.035156 29.089844 201.703125 \"/>\n",
       "<path style=\"fill-rule:nonzero;fill:rgb(100%,100%,100%);fill-opacity:1;stroke-width:1;stroke-linecap:butt;stroke-linejoin:miter;stroke:rgb(0%,0%,0%);stroke-opacity:1;stroke-miterlimit:10;\" d=\"M 216.957031 28.082031 C 216.957031 34.75 206.957031 34.75 206.957031 28.082031 C 206.957031 21.414062 216.957031 21.414062 216.957031 28.082031 \"/>\n",
       "<path style=\"fill-rule:nonzero;fill:rgb(100%,100%,100%);fill-opacity:1;stroke-width:1;stroke-linecap:butt;stroke-linejoin:miter;stroke:rgb(0%,0%,0%);stroke-opacity:1;stroke-miterlimit:10;\" d=\"M 52.757812 358.078125 C 52.757812 364.746094 42.757812 364.746094 42.757812 358.078125 C 42.757812 351.414062 52.757812 351.414062 52.757812 358.078125 \"/>\n",
       "<path style=\"fill-rule:nonzero;fill:rgb(100%,100%,100%);fill-opacity:1;stroke-width:1;stroke-linecap:butt;stroke-linejoin:miter;stroke:rgb(0%,0%,0%);stroke-opacity:1;stroke-miterlimit:10;\" d=\"M 236.480469 135.578125 C 236.480469 142.242188 226.480469 142.242188 226.480469 135.578125 C 226.480469 128.910156 236.480469 128.910156 236.480469 135.578125 \"/>\n",
       "</g>\n",
       "</svg>\n"
      ],
      "text/plain": [
       "<igraph.drawing.cairo.plot.CairoPlot at 0x7f6835a753c0>"
      ]
     },
     "execution_count": 3,
     "metadata": {
      "image/svg+xml": {
       "isolated": true
      }
     },
     "output_type": "execute_result"
    }
   ],
   "source": [
    "ig.plot(g, layout=layout, vertex_size=10, vertex_color=g.vs['color'], bbox=(0,0,500,500))"
   ]
  },
  {
   "cell_type": "code",
   "execution_count": 4,
   "id": "b0854056-f121-44c6-a63a-3eaa1ec3ff99",
   "metadata": {
    "tags": []
   },
   "outputs": [
    {
     "name": "stdout",
     "output_type": "stream",
     "text": [
      "Size of the first connected component: 1\n",
      "Size of the second connected component: 1\n"
     ]
    }
   ],
   "source": [
    "# Calculate the connected components\n",
    "components = g.components()\n",
    "\n",
    "# Get the size of the first and second connected components\n",
    "if len(components) == 1:\n",
    "    # If there is only one component, set the size of the second component to 0\n",
    "    first_size = len(components[0])\n",
    "    second_size = 0\n",
    "else:\n",
    "    # Otherwise, get the sizes of the first two components\n",
    "    first_size = len(components[0])\n",
    "    second_size = len(components[1])\n",
    "\n",
    "print(\"Size of the first connected component:\", first_size)\n",
    "print(\"Size of the second connected component:\", second_size)"
   ]
  }
 ],
 "metadata": {
  "kernelspec": {
   "display_name": "Python 3 (ipykernel)",
   "language": "python",
   "name": "python3"
  },
  "language_info": {
   "codemirror_mode": {
    "name": "ipython",
    "version": 3
   },
   "file_extension": ".py",
   "mimetype": "text/x-python",
   "name": "python",
   "nbconvert_exporter": "python",
   "pygments_lexer": "ipython3",
   "version": "3.10.6"
  }
 },
 "nbformat": 4,
 "nbformat_minor": 5
}
