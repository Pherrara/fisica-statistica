{
 "cells": [
  {
   "cell_type": "code",
   "execution_count": 75,
   "id": "6f1f22cd-4bcc-4489-ba4f-35cb98d34edf",
   "metadata": {},
   "outputs": [],
   "source": [
    "import igraph as ig\n",
    "import numpy as np\n",
    "import matplotlib.pyplot as plt"
   ]
  },
  {
   "cell_type": "code",
   "execution_count": 76,
   "id": "2bed9a67-c6e9-4aa2-8d7e-c35eeddeea66",
   "metadata": {},
   "outputs": [],
   "source": [
    "# Set parameters\n",
    "N = 1000\n",
    "p = 0.58\n",
    "\n",
    "#prob critica intorno a 0.59"
   ]
  },
  {
   "cell_type": "code",
   "execution_count": 77,
   "id": "e5b39341-a6f0-4231-a9c7-6b9b00531ddd",
   "metadata": {},
   "outputs": [],
   "source": [
    "# Build lattice graph\n",
    "g = ig.Graph.Lattice([N, N], circular=False, directed=False)"
   ]
  },
  {
   "cell_type": "code",
   "execution_count": 78,
   "id": "95604201-3437-4b1c-bff6-62d0e5c69d69",
   "metadata": {},
   "outputs": [],
   "source": [
    "# Generate random numbers and delete vertices\n",
    "rand = np.random.rand(g.vcount())\n",
    "\n",
    "g.delete_vertices([v.index for v in g.vs if rand[v.index] > p])"
   ]
  },
  {
   "cell_type": "code",
   "execution_count": 79,
   "id": "f9c7d51c-949c-49a5-b996-7123e509ac86",
   "metadata": {},
   "outputs": [
    {
     "name": "stdout",
     "output_type": "stream",
     "text": [
      "First cluster size: 19955\n",
      "Second cluster size: 14437\n"
     ]
    }
   ],
   "source": [
    "# Calculate clusters and their sizes\n",
    "clusters = g.connected_components()\n",
    "sizes = clusters.sizes()\n",
    "\n",
    "sizes.sort(reverse=True)\n",
    "sizes.append(0)\n",
    "\n",
    "print(f\"First cluster size: {sizes[0]}\")\n",
    "print(f\"Second cluster size: {sizes[1]}\")"
   ]
  }
 ],
 "metadata": {
  "kernelspec": {
   "display_name": "Python 3 (ipykernel)",
   "language": "python",
   "name": "python3"
  },
  "language_info": {
   "codemirror_mode": {
    "name": "ipython",
    "version": 3
   },
   "file_extension": ".py",
   "mimetype": "text/x-python",
   "name": "python",
   "nbconvert_exporter": "python",
   "pygments_lexer": "ipython3",
   "version": "3.10.6"
  }
 },
 "nbformat": 4,
 "nbformat_minor": 5
}
