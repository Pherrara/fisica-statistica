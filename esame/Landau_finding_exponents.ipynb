{
 "cells": [
  {
   "cell_type": "code",
   "execution_count": 971,
   "id": "96fde711-76f0-4f64-9572-c74187f601ed",
   "metadata": {
    "tags": []
   },
   "outputs": [],
   "source": [
    "import numpy as np\n",
    "import sympy as smp\n",
    "import matplotlib.pyplot as plt"
   ]
  },
  {
   "cell_type": "code",
   "execution_count": 972,
   "id": "b23adf70-69b1-4d1d-8fb1-838891df49d1",
   "metadata": {},
   "outputs": [],
   "source": [
    "# data una funzione energia libera di Landau, troviamo gli esponenti critici"
   ]
  },
  {
   "cell_type": "code",
   "execution_count": 973,
   "id": "b64229ce-c55d-4d3c-a9a8-77ad0bfb30aa",
   "metadata": {
    "tags": []
   },
   "outputs": [],
   "source": [
    "h = smp.symbols(\"h\")\n",
    "r1 = smp.symbols(\"r1\")\n",
    "t = smp.symbols(\"t\")\n",
    "m = smp.symbols(\"m\")\n",
    "u0 = smp.symbols(\"u0\") \n",
    "q0 = smp.symbols(\"q0\") "
   ]
  },
  {
   "cell_type": "code",
   "execution_count": 974,
   "id": "43063ec0-530d-41d2-881c-330d3263b899",
   "metadata": {},
   "outputs": [],
   "source": [
    "psi = -h * m + q0 + r1 * t * (m ** 2) + u0 * (m ** 6)"
   ]
  },
  {
   "cell_type": "markdown",
   "id": "1121005c-1a26-4292-a71f-a23c90b4bac6",
   "metadata": {},
   "source": [
    "# Troviamo l'esponente Beta"
   ]
  },
  {
   "cell_type": "code",
   "execution_count": 975,
   "id": "1b9748b8-b6b4-4416-8d68-862902d38f6b",
   "metadata": {},
   "outputs": [],
   "source": [
    "equation1 = smp.diff(psi, m)"
   ]
  },
  {
   "cell_type": "code",
   "execution_count": 976,
   "id": "019b7411-04dd-4ce0-9ed1-f4aea1d3ba0c",
   "metadata": {},
   "outputs": [
    {
     "data": {
      "text/latex": [
       "$\\displaystyle - h + 6 m^{5} u_{0} + 2 m r_{1} t$"
      ],
      "text/plain": [
       "-h + 6*m**5*u0 + 2*m*r1*t"
      ]
     },
     "execution_count": 976,
     "metadata": {},
     "output_type": "execute_result"
    }
   ],
   "source": [
    "equation1"
   ]
  },
  {
   "cell_type": "code",
   "execution_count": 977,
   "id": "7089e453-1095-417c-854a-7f64cf134bb5",
   "metadata": {},
   "outputs": [],
   "source": [
    "#mettiamoci nel caso in cui il campo esterno è 0\n",
    "equation1= equation1.subs(h, 0)"
   ]
  },
  {
   "cell_type": "code",
   "execution_count": 978,
   "id": "b2ad66db-7072-4c31-8afa-5e497204c809",
   "metadata": {},
   "outputs": [
    {
     "data": {
      "text/latex": [
       "$\\displaystyle 6 m^{5} u_{0} + 2 m r_{1} t$"
      ],
      "text/plain": [
       "6*m**5*u0 + 2*m*r1*t"
      ]
     },
     "execution_count": 978,
     "metadata": {},
     "output_type": "execute_result"
    }
   ],
   "source": [
    "equation1 #Questa quantità DEVE fare 0"
   ]
  },
  {
   "cell_type": "code",
   "execution_count": 979,
   "id": "66b4d43b-679c-4d1f-8d70-98129ac75b87",
   "metadata": {
    "tags": []
   },
   "outputs": [],
   "source": [
    "m_results = smp.solve(equation1, m)"
   ]
  },
  {
   "cell_type": "code",
   "execution_count": 980,
   "id": "a5f28b9c-e2bd-455d-9ed2-686b6f356be1",
   "metadata": {
    "tags": []
   },
   "outputs": [
    {
     "data": {
      "text/plain": [
       "[0,\n",
       " -3**(3/4)*(-r1*t/u0)**(1/4)/3,\n",
       " 3**(3/4)*(-r1*t/u0)**(1/4)/3,\n",
       " -3**(3/4)*I*(-r1*t/u0)**(1/4)/3,\n",
       " 3**(3/4)*I*(-r1*t/u0)**(1/4)/3]"
      ]
     },
     "execution_count": 980,
     "metadata": {},
     "output_type": "execute_result"
    }
   ],
   "source": [
    "m_results"
   ]
  },
  {
   "cell_type": "code",
   "execution_count": 981,
   "id": "d4bdbcd7-2627-4411-8c4a-a05cd779e26f",
   "metadata": {
    "tags": []
   },
   "outputs": [],
   "source": [
    "sol0, sol1, sol2, sol3, sol4 = m_results"
   ]
  },
  {
   "cell_type": "code",
   "execution_count": 982,
   "id": "12d7ef0a-d82a-40ee-9a11-0020b37d254d",
   "metadata": {},
   "outputs": [
    {
     "data": {
      "text/latex": [
       "$\\displaystyle 0$"
      ],
      "text/plain": [
       "0"
      ]
     },
     "execution_count": 982,
     "metadata": {},
     "output_type": "execute_result"
    }
   ],
   "source": [
    "sol0"
   ]
  },
  {
   "cell_type": "code",
   "execution_count": 983,
   "id": "cff849f4-e2a4-4d0a-be6f-ed541dfe7fd1",
   "metadata": {},
   "outputs": [
    {
     "data": {
      "text/latex": [
       "$\\displaystyle - \\frac{3^{\\frac{3}{4}} \\sqrt[4]{- \\frac{r_{1} t}{u_{0}}}}{3}$"
      ],
      "text/plain": [
       "-3**(3/4)*(-r1*t/u0)**(1/4)/3"
      ]
     },
     "execution_count": 983,
     "metadata": {},
     "output_type": "execute_result"
    }
   ],
   "source": [
    "sol1"
   ]
  },
  {
   "cell_type": "code",
   "execution_count": 984,
   "id": "441c2c9f-45e0-4cd1-96cb-ad656a7c97ae",
   "metadata": {},
   "outputs": [
    {
     "data": {
      "text/latex": [
       "$\\displaystyle \\frac{3^{\\frac{3}{4}} \\sqrt[4]{- \\frac{r_{1} t}{u_{0}}}}{3}$"
      ],
      "text/plain": [
       "3**(3/4)*(-r1*t/u0)**(1/4)/3"
      ]
     },
     "execution_count": 984,
     "metadata": {},
     "output_type": "execute_result"
    }
   ],
   "source": [
    "sol2"
   ]
  },
  {
   "cell_type": "code",
   "execution_count": 985,
   "id": "13e1c087-4a8a-4fe2-9a29-a0c198b44849",
   "metadata": {},
   "outputs": [
    {
     "data": {
      "text/latex": [
       "$\\displaystyle - \\frac{3^{\\frac{3}{4}} i \\sqrt[4]{- \\frac{r_{1} t}{u_{0}}}}{3}$"
      ],
      "text/plain": [
       "-3**(3/4)*I*(-r1*t/u0)**(1/4)/3"
      ]
     },
     "execution_count": 985,
     "metadata": {},
     "output_type": "execute_result"
    }
   ],
   "source": [
    "sol3"
   ]
  },
  {
   "cell_type": "code",
   "execution_count": 986,
   "id": "48162cf7-3e3f-4e6b-9ae0-c615b71bf4ef",
   "metadata": {},
   "outputs": [
    {
     "data": {
      "text/latex": [
       "$\\displaystyle \\frac{3^{\\frac{3}{4}} i \\sqrt[4]{- \\frac{r_{1} t}{u_{0}}}}{3}$"
      ],
      "text/plain": [
       "3**(3/4)*I*(-r1*t/u0)**(1/4)/3"
      ]
     },
     "execution_count": 986,
     "metadata": {},
     "output_type": "execute_result"
    }
   ],
   "source": [
    "sol4"
   ]
  },
  {
   "cell_type": "code",
   "execution_count": 987,
   "id": "7f91d8e7-46f5-4478-8760-dbcd97974aea",
   "metadata": {},
   "outputs": [],
   "source": [
    "# sol0 è sopra la t critica"
   ]
  },
  {
   "cell_type": "code",
   "execution_count": 988,
   "id": "b79db469-feab-4824-bd1c-9606bfaf6cb9",
   "metadata": {},
   "outputs": [],
   "source": [
    "# sol1 e sol2 invece sono i valori di m per cui c'è rottura di simmetria sotto il punto critico, sol3 e sol4 non sono soluzioni reali quindi le ignoriamo"
   ]
  },
  {
   "cell_type": "code",
   "execution_count": 989,
   "id": "3da29346-0158-4da1-a25e-26ccd5166df0",
   "metadata": {
    "tags": []
   },
   "outputs": [
    {
     "data": {
      "text/latex": [
       "$\\displaystyle \\frac{3^{\\frac{3}{4}} \\sqrt[4]{- \\frac{r_{1} t}{u_{0}}}}{3}$"
      ],
      "text/plain": [
       "3**(3/4)*(-r1*t/u0)**(1/4)/3"
      ]
     },
     "execution_count": 989,
     "metadata": {},
     "output_type": "execute_result"
    }
   ],
   "source": [
    "sol2 # si vede che beta è pari a 1/4"
   ]
  },
  {
   "cell_type": "markdown",
   "id": "57b6325e-f4d8-4f14-bbd0-860d8fb08e1f",
   "metadata": {},
   "source": [
    "# Troviamo l'esponente Alfa:"
   ]
  },
  {
   "cell_type": "code",
   "execution_count": 990,
   "id": "aa77aece-e2b7-427c-af59-aaa75921467c",
   "metadata": {},
   "outputs": [],
   "source": [
    "#Sostituiamo a psi la soluzione non nulla di m\n",
    "psi_msol2= psi.subs(m, sol2)"
   ]
  },
  {
   "cell_type": "code",
   "execution_count": 991,
   "id": "86f5bfb4-81cd-4e6a-80aa-d0a70670a9bd",
   "metadata": {},
   "outputs": [
    {
     "data": {
      "text/latex": [
       "$\\displaystyle - \\frac{3^{\\frac{3}{4}} h \\sqrt[4]{- \\frac{r_{1} t}{u_{0}}}}{3} + q_{0} + \\frac{\\sqrt{3} r_{1} t \\sqrt{- \\frac{r_{1} t}{u_{0}}}}{3} + \\frac{\\sqrt{3} u_{0} \\left(- \\frac{r_{1} t}{u_{0}}\\right)^{\\frac{3}{2}}}{9}$"
      ],
      "text/plain": [
       "-3**(3/4)*h*(-r1*t/u0)**(1/4)/3 + q0 + sqrt(3)*r1*t*sqrt(-r1*t/u0)/3 + sqrt(3)*u0*(-r1*t/u0)**(3/2)/9"
      ]
     },
     "execution_count": 991,
     "metadata": {},
     "output_type": "execute_result"
    }
   ],
   "source": [
    "psi_msol2"
   ]
  },
  {
   "cell_type": "code",
   "execution_count": 992,
   "id": "2745bdcc-0218-4c15-ab5e-e648c319eff3",
   "metadata": {
    "tags": []
   },
   "outputs": [],
   "source": [
    "c = - t * smp.diff(psi_msol2, t, 2)"
   ]
  },
  {
   "cell_type": "code",
   "execution_count": 993,
   "id": "706aa654-9ed1-4644-b537-e344bdff562f",
   "metadata": {
    "tags": []
   },
   "outputs": [
    {
     "data": {
      "text/latex": [
       "$\\displaystyle - \\frac{3^{\\frac{3}{4}} h \\sqrt[4]{- \\frac{r_{1} t}{u_{0}}}}{16 t} - \\frac{\\sqrt{3} r_{1} \\sqrt{- \\frac{r_{1} t}{u_{0}}}}{4} - \\frac{\\sqrt{3} u_{0} \\left(- \\frac{r_{1} t}{u_{0}}\\right)^{\\frac{3}{2}}}{12 t}$"
      ],
      "text/plain": [
       "-3**(3/4)*h*(-r1*t/u0)**(1/4)/(16*t) - sqrt(3)*r1*sqrt(-r1*t/u0)/4 - sqrt(3)*u0*(-r1*t/u0)**(3/2)/(12*t)"
      ]
     },
     "execution_count": 993,
     "metadata": {},
     "output_type": "execute_result"
    }
   ],
   "source": [
    "c"
   ]
  },
  {
   "cell_type": "code",
   "execution_count": 994,
   "id": "f2dcbf1c-9d37-4387-8b5c-e86ec509cd1f",
   "metadata": {},
   "outputs": [
    {
     "data": {
      "image/png": "[encoded data removed]",
      "text/plain": [
       "<Figure size 640x480 with 1 Axes>"
      ]
     },
     "metadata": {},
     "output_type": "display_data"
    }
   ],
   "source": [
    "p1 = smp.plot(c.subs({r1: 1, u0: 1, q0: 1, h: 1}), (t, -1, 0), show = True) #Questa è la curva per t<0"
   ]
  },
  {
   "cell_type": "code",
   "execution_count": 995,
   "id": "2e54d1d9-26a6-412b-8710-623e2ed4a1a2",
   "metadata": {},
   "outputs": [],
   "source": [
    "# Per m = 0 invece, ovvero dopo la temperatura critica, il calore specifico va a 0, si può banalmente vedere infatti che:"
   ]
  },
  {
   "cell_type": "code",
   "execution_count": 996,
   "id": "a9b7c60c-9a2f-430f-896a-74a624679db4",
   "metadata": {},
   "outputs": [],
   "source": [
    "#Sostituiamo a psi la soluzione m = 0\n",
    "psi_msol0= psi.subs(m, sol0)"
   ]
  },
  {
   "cell_type": "code",
   "execution_count": 997,
   "id": "fb372b9b-d4bb-4992-adcd-2d7a6e00d007",
   "metadata": {},
   "outputs": [
    {
     "data": {
      "text/latex": [
       "$\\displaystyle q_{0}$"
      ],
      "text/plain": [
       "q0"
      ]
     },
     "execution_count": 997,
     "metadata": {},
     "output_type": "execute_result"
    }
   ],
   "source": [
    "psi_msol0"
   ]
  },
  {
   "cell_type": "code",
   "execution_count": 998,
   "id": "29bab27c-02d2-4e2d-affa-7b6c8d2930f2",
   "metadata": {
    "tags": []
   },
   "outputs": [],
   "source": [
    "c = - t * smp.diff(psi_msol0, t, 2)"
   ]
  },
  {
   "cell_type": "code",
   "execution_count": 999,
   "id": "61f3cfa7-2352-4f07-a3ff-82c8d2c2edce",
   "metadata": {
    "tags": []
   },
   "outputs": [
    {
     "data": {
      "text/latex": [
       "$\\displaystyle 0$"
      ],
      "text/plain": [
       "0"
      ]
     },
     "execution_count": 999,
     "metadata": {},
     "output_type": "execute_result"
    }
   ],
   "source": [
    "c "
   ]
  },
  {
   "cell_type": "code",
   "execution_count": 1000,
   "id": "918fbdf0-3846-4a11-80b9-875b916360dc",
   "metadata": {},
   "outputs": [],
   "source": [
    "# alfa si può considerare come pari a 0"
   ]
  },
  {
   "cell_type": "code",
   "execution_count": null,
   "id": "1ec3d5ea-2174-4163-be6b-df5cd546188c",
   "metadata": {},
   "outputs": [],
   "source": []
  },
  {
   "cell_type": "markdown",
   "id": "e8977db4-b28a-4d02-91ed-adae0ef58beb",
   "metadata": {},
   "source": [
    "# Troviamo gli esponenti gamma"
   ]
  },
  {
   "cell_type": "code",
   "execution_count": 1001,
   "id": "21f8c57a-bf6c-4bec-9082-1f99f2b07d2c",
   "metadata": {},
   "outputs": [],
   "source": [
    "# vediamo la suscettibilità"
   ]
  },
  {
   "cell_type": "code",
   "execution_count": 1002,
   "id": "398aa777-96f8-4458-a550-bc4cf48b8200",
   "metadata": {},
   "outputs": [],
   "source": [
    "h = 2 * r1 * t * m + 6 * u0 * (m ** 5)"
   ]
  },
  {
   "cell_type": "code",
   "execution_count": 1003,
   "id": "ea53369a-dbd8-4e3d-abee-4a1fcf8d226c",
   "metadata": {},
   "outputs": [],
   "source": [
    "chi = smp.diff(h, m) ** (-1)"
   ]
  },
  {
   "cell_type": "code",
   "execution_count": 1004,
   "id": "c40c7fd0-9148-422b-ad7c-ccd3821c6e67",
   "metadata": {},
   "outputs": [
    {
     "data": {
      "text/latex": [
       "$\\displaystyle \\frac{1}{30 m^{4} u_{0} + 2 r_{1} t}$"
      ],
      "text/plain": [
       "1/(30*m**4*u0 + 2*r1*t)"
      ]
     },
     "execution_count": 1004,
     "metadata": {},
     "output_type": "execute_result"
    }
   ],
   "source": [
    "chi"
   ]
  },
  {
   "cell_type": "code",
   "execution_count": 1005,
   "id": "0689d931-8d1f-4214-a389-9b7e2aca7b4c",
   "metadata": {},
   "outputs": [],
   "source": [
    "# con la soluzione m = 0:\n",
    "chi_sol0= chi.subs(m, sol0)"
   ]
  },
  {
   "cell_type": "code",
   "execution_count": 1006,
   "id": "f64904d9-14d6-41b4-b266-f07288420d71",
   "metadata": {},
   "outputs": [
    {
     "data": {
      "text/latex": [
       "$\\displaystyle \\frac{1}{2 r_{1} t}$"
      ],
      "text/plain": [
       "1/(2*r1*t)"
      ]
     },
     "execution_count": 1006,
     "metadata": {},
     "output_type": "execute_result"
    }
   ],
   "source": [
    "chi_sol0"
   ]
  },
  {
   "cell_type": "code",
   "execution_count": 1007,
   "id": "9d7a5054-4b82-4eee-8a00-74fb16c2e4fc",
   "metadata": {},
   "outputs": [],
   "source": [
    "# usando in vece sol2\n",
    "chi_sol2= chi.subs(m, sol2)"
   ]
  },
  {
   "cell_type": "code",
   "execution_count": 1008,
   "id": "d747d15d-9d48-4c27-aeb5-08a1fa7cec2a",
   "metadata": {},
   "outputs": [
    {
     "data": {
      "text/latex": [
       "$\\displaystyle - \\frac{1}{8 r_{1} t}$"
      ],
      "text/plain": [
       "-1/(8*r1*t)"
      ]
     },
     "execution_count": 1008,
     "metadata": {},
     "output_type": "execute_result"
    }
   ],
   "source": [
    "chi_sol2"
   ]
  },
  {
   "cell_type": "code",
   "execution_count": 1009,
   "id": "3500d80a-b5d5-47d1-a045-5bcc8019b845",
   "metadata": {},
   "outputs": [],
   "source": [
    "# entrambi i gamma sono uguali a 1"
   ]
  }
 ],
 "metadata": {
  "kernelspec": {
   "display_name": "Python 3 (ipykernel)",
   "language": "python",
   "name": "python3"
  },
  "language_info": {
   "codemirror_mode": {
    "name": "ipython",
    "version": 3
   },
   "file_extension": ".py",
   "mimetype": "text/x-python",
   "name": "python",
   "nbconvert_exporter": "python",
   "pygments_lexer": "ipython3",
   "version": "3.10.6"
  }
 },
 "nbformat": 4,
 "nbformat_minor": 5
}
