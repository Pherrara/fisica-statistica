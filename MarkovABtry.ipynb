{
 "cells": [
  {
   "cell_type": "code",
   "execution_count": 18,
   "id": "6ddb2aef-1f95-47b8-94cb-8cd7dc6c0c25",
   "metadata": {
    "tags": []
   },
   "outputs": [
    {
     "name": "stdout",
     "output_type": "stream",
     "text": [
      "Transition probabilities:\n",
      "P(A -> A) = 0.357\n",
      "P(A -> B) = 0.236\n",
      "P(B -> A) = 0.235\n",
      "P(B -> B) = 0.172\n"
     ]
    }
   ],
   "source": [
    "import random\n",
    "\n",
    "# Define transition probabilities\n",
    "q = 0.4  # probability of going from A to B\n",
    "r = 0.6  # probability of going from B to A\n",
    "\n",
    "# Define initial state\n",
    "current_state = 'A'\n",
    "\n",
    "# Define number of iterations\n",
    "num_iterations = 1000\n",
    "\n",
    "# Define a dictionary to store the transition counts\n",
    "transitions = {'A': {'A': 0, 'B': 0}, 'B': {'A': 0, 'B': 0}}\n",
    "\n",
    "# Simulate the Markov Chain\n",
    "for i in range(num_iterations):\n",
    "    # Determine the next state based on the transition probabilities\n",
    "    if current_state == 'A':\n",
    "        next_state = 'B' if random.random() < q else 'A'\n",
    "    else:\n",
    "        next_state = 'A' if random.random() < r else 'B'\n",
    "    \n",
    "    # Update the transition counts\n",
    "    transitions[current_state][next_state] += 1\n",
    "    \n",
    "    # Update the current state\n",
    "    current_state = next_state\n",
    "\n",
    "# Print the transition probabilities\n",
    "print('Transition probabilities:')\n",
    "print(f'P(A -> A) = {transitions[\"A\"][\"A\"] / num_iterations:.3f}')\n",
    "print(f'P(A -> B) = {transitions[\"A\"][\"B\"] / num_iterations:.3f}')\n",
    "print(f'P(B -> A) = {transitions[\"B\"][\"A\"] / num_iterations:.3f}')\n",
    "print(f'P(B -> B) = {transitions[\"B\"][\"B\"] / num_iterations:.3f}')\n"
   ]
  },
  {
   "cell_type": "code",
   "execution_count": 17,
   "id": "4d58c42e-3ae0-4bdd-9b7a-19183de34acd",
   "metadata": {
    "tags": []
   },
   "outputs": [
    {
     "name": "stdout",
     "output_type": "stream",
     "text": [
      "{'A': {'A': 354, 'B': 250}, 'B': {'A': 250, 'B': 146}}\n"
     ]
    }
   ],
   "source": [
    "print(transitions)"
   ]
  }
 ],
 "metadata": {
  "kernelspec": {
   "display_name": "Python 3 (ipykernel)",
   "language": "python",
   "name": "python3"
  },
  "language_info": {
   "codemirror_mode": {
    "name": "ipython",
    "version": 3
   },
   "file_extension": ".py",
   "mimetype": "text/x-python",
   "name": "python",
   "nbconvert_exporter": "python",
   "pygments_lexer": "ipython3",
   "version": "3.10.6"
  }
 },
 "nbformat": 4,
 "nbformat_minor": 5
}
